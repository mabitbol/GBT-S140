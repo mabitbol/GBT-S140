{
 "cells": [
  {
   "cell_type": "code",
   "execution_count": 1,
   "metadata": {
    "collapsed": false
   },
   "outputs": [
    {
     "name": "stdout",
     "output_type": "stream",
     "text": [
      "Populating the interactive namespace from numpy and matplotlib\n"
     ]
    }
   ],
   "source": [
    "%pylab inline"
   ]
  },
  {
   "cell_type": "code",
   "execution_count": 2,
   "metadata": {
    "collapsed": false
   },
   "outputs": [
    {
     "name": "stdout",
     "output_type": "stream",
     "text": [
      "/home/mabitbol/GBT-S140/analysis\n"
     ]
    }
   ],
   "source": [
    "cd /home/mabitbol/GBT-S140/analysis/"
   ]
  },
  {
   "cell_type": "code",
   "execution_count": 3,
   "metadata": {
    "collapsed": true
   },
   "outputs": [],
   "source": [
    "import aperture_photometry as apy"
   ]
  },
  {
   "cell_type": "code",
   "execution_count": 4,
   "metadata": {
    "collapsed": true
   },
   "outputs": [],
   "source": [
    "banks = ['A', 'B', 'C']\n",
    "pfreqs = ['30', '40', '70', '143', '217', '353', '545', '857']"
   ]
  },
  {
   "cell_type": "code",
   "execution_count": 5,
   "metadata": {
    "collapsed": false
   },
   "outputs": [
    {
     "name": "stdout",
     "output_type": "stream",
     "text": [
      "[75.895538, 27.21367579100486, 27.520340417343405, 27.798204694779624, 45.446214565708502, 42.340218837394133, 44.629110282956027, 143.51352528351129, 621.81680180150329, 2580.771355681215, 8587.4288307608822, 27734.251565281316]\n"
     ]
    }
   ],
   "source": [
    "rc = 107.2 \n",
    "dc = 5.2\n",
    "rad = 1.\n",
    "flux = []\n",
    "flux.append(apy.aperture_photometry_cgps(rc=rc, dc=dc, rad=rad))\n",
    "for bank in banks:\n",
    "    flux.append(apy.aperture_photometry_gbt(bank, rc=rc, dc=dc, rad=rad))\n",
    "for pfreq in pfreqs:\n",
    "    flux.append(apy.aperture_photometry_planck(pfreq, rc=rc, dc=dc, rad=rad))\n",
    "print flux"
   ]
  },
  {
   "cell_type": "code",
   "execution_count": 6,
   "metadata": {
    "collapsed": false
   },
   "outputs": [
    {
     "name": "stdout",
     "output_type": "stream",
     "text": [
      "[26.81979, 13.388455134923404, 13.837303982400313, 14.069663981279312, 14.573872059849879, 13.875906270548533, 15.493151736332489, 44.376366402753867, 191.47015414651494, 766.38487646394287, 2455.4757899465089, 7653.8572862587871]\n"
     ]
    }
   ],
   "source": [
    "rc = 107.3 \n",
    "dc = 5.1\n",
    "rad = 0.4\n",
    "flux = []\n",
    "flux.append(apy.aperture_photometry_cgps(rc=rc, dc=dc, rad=rad))\n",
    "for bank in banks:\n",
    "    flux.append(apy.aperture_photometry_gbt(bank, rc=rc, dc=dc, rad=rad))\n",
    "for pfreq in pfreqs:\n",
    "    flux.append(apy.aperture_photometry_planck(pfreq, rc=rc, dc=dc, rad=rad))\n",
    "print flux"
   ]
  },
  {
   "cell_type": "code",
   "execution_count": 7,
   "metadata": {
    "collapsed": false
   },
   "outputs": [
    {
     "name": "stdout",
     "output_type": "stream",
     "text": [
      "[5.4190044, 2.1322611615605833, 2.0450385003310094, 1.9472927765519157, 3.1383352492450731, 3.0151883271090796, 4.1277533674346119, 24.915223604206631, 126.02367908722891, 572.5497642032235, 2049.1767319122769, 7049.5244990867523]\n"
     ]
    }
   ],
   "source": [
    "rc = 106.79\n",
    "dc = 5.3\n",
    "rad = 0.2\n",
    "flux = []\n",
    "flux.append(apy.aperture_photometry_cgps(rc=rc, dc=dc, rad=rad))\n",
    "for bank in banks:\n",
    "    flux.append(apy.aperture_photometry_gbt(bank, rc=rc, dc=dc, rad=rad))\n",
    "for pfreq in pfreqs:\n",
    "    flux.append(apy.aperture_photometry_planck(pfreq, rc=rc, dc=dc, rad=rad))\n",
    "print flux"
   ]
  },
  {
   "cell_type": "code",
   "execution_count": 8,
   "metadata": {
    "collapsed": false
   },
   "outputs": [
    {
     "name": "stdout",
     "output_type": "stream",
     "text": [
      "[10.363525, 3.3161414553578439, 2.8165194498319943, 2.5434414976541051, 9.1452782434353139, 8.7123985653415232, 10.836482538642521, 43.343487720082869, 188.1198624776853, 742.46422556961306, 2400.6327064643283, 7341.464876718157]\n"
     ]
    }
   ],
   "source": [
    "rc = 107.2 \n",
    "dc = 5.7\n",
    "rad = 0.4\n",
    "flux = []\n",
    "flux.append(apy.aperture_photometry_cgps(rc=rc, dc=dc, rad=rad))\n",
    "for bank in banks:\n",
    "    flux.append(apy.aperture_photometry_gbt(bank, rc=rc, dc=dc, rad=rad))\n",
    "for pfreq in pfreqs:\n",
    "    flux.append(apy.aperture_photometry_planck(pfreq, rc=rc, dc=dc, rad=rad))\n",
    "print flux"
   ]
  },
  {
   "cell_type": "code",
   "execution_count": null,
   "metadata": {
    "collapsed": true
   },
   "outputs": [],
   "source": []
  }
 ],
 "metadata": {
  "kernelspec": {
   "display_name": "Python 2",
   "language": "python",
   "name": "python2"
  },
  "language_info": {
   "codemirror_mode": {
    "name": "ipython",
    "version": 2
   },
   "file_extension": ".py",
   "mimetype": "text/x-python",
   "name": "python",
   "nbconvert_exporter": "python",
   "pygments_lexer": "ipython2",
   "version": "2.7.13"
  }
 },
 "nbformat": 4,
 "nbformat_minor": 2
}
