{
 "cells": [
  {
   "cell_type": "code",
   "execution_count": 1,
   "metadata": {
    "collapsed": false
   },
   "outputs": [
    {
     "name": "stdout",
     "output_type": "stream",
     "text": [
      "Populating the interactive namespace from numpy and matplotlib\n"
     ]
    }
   ],
   "source": [
    "%pylab inline"
   ]
  },
  {
   "cell_type": "code",
   "execution_count": 2,
   "metadata": {
    "collapsed": false
   },
   "outputs": [
    {
     "name": "stdout",
     "output_type": "stream",
     "text": [
      "/home/mabitbol/GBT-S140/analysis\n"
     ]
    }
   ],
   "source": [
    "cd /home/mabitbol/GBT-S140/analysis/"
   ]
  },
  {
   "cell_type": "code",
   "execution_count": 3,
   "metadata": {
    "collapsed": true
   },
   "outputs": [],
   "source": [
    "import foregrounds as fg\n",
    "from scipy.optimize import curve_fit"
   ]
  },
  {
   "cell_type": "code",
   "execution_count": 4,
   "metadata": {
    "collapsed": false
   },
   "outputs": [],
   "source": [
    "fdg = np.loadtxt('/home/mabitbol/GBT-S140/externaldata/fd_G107_wim.dat')"
   ]
  },
  {
   "cell_type": "code",
   "execution_count": 5,
   "metadata": {
    "collapsed": true
   },
   "outputs": [],
   "source": [
    "cfs = fdg[:, 0]\n",
    "cjys = fdg[:, 1]\n",
    "cerrs = fdg[:, 2]\n",
    "cfit = fdg[:, 3]\n",
    "crem = fdg[:, 4]\n",
    "cremerr = fdg[:, 5]"
   ]
  },
  {
   "cell_type": "code",
   "execution_count": 6,
   "metadata": {
    "collapsed": true
   },
   "outputs": [],
   "source": [
    "freqs = np.logspace(8, 13, 2000)\n",
    "nu = freqs*1.e-9"
   ]
  },
  {
   "cell_type": "code",
   "execution_count": 7,
   "metadata": {
    "collapsed": true
   },
   "outputs": [],
   "source": [
    "beam = pi*(1.*pi/180.)**2\n",
    "beam2 = pi*((0.16/60.)*pi/180.)**2"
   ]
  },
  {
   "cell_type": "code",
   "execution_count": 8,
   "metadata": {
    "collapsed": true
   },
   "outputs": [],
   "source": [
    "def freefreep(freqs, EM=100., Te=8000.):\n",
    "    nu = freqs*1.e-9\n",
    "    gff = np.log(4.955e-2 / nu) + 1.5 * np.log(Te)\n",
    "    tff = 3.014e-2 * (Te**-1.5) * (nu**-2) * EM * gff\n",
    "    return Te * (1. - np.exp(-tff))"
   ]
  },
  {
   "cell_type": "code",
   "execution_count": 9,
   "metadata": {
    "collapsed": true
   },
   "outputs": [],
   "source": [
    "def signal(freqs, EM, Ad, Bd, Asd, nup, A):\n",
    "    fffit = freefreep(freqs, EM=EM, Te=8000.)\n",
    "    fffit = fg.krj_to_radiance(freqs, fffit)*1.e26*beam\n",
    "    dustfit = fg.thermal_dust(freqs, Ad=Ad, Bd=Bd, Td=18.96)\n",
    "    dustfit = fg.krj_to_radiance(freqs, dustfit)*1.e26*beam\n",
    "    amefit = fg.ame(freqs, Asd=Asd, nup=nup, nu0=22.8e9)\n",
    "    amefit = fg.krj_to_radiance(freqs, amefit)*1.e26*beam\n",
    "    ccmb = fg.cmb(freqs, A=A)\n",
    "    ccmb = fg.krj_to_radiance(freqs, ccmb)*1.e26*beam\n",
    "    total = fffit + dustfit + amefit + ccmb\n",
    "    return total"
   ]
  },
  {
   "cell_type": "code",
   "execution_count": 10,
   "metadata": {
    "collapsed": true
   },
   "outputs": [],
   "source": [
    "def signal2(freqs, EM1, EM2, Ad, Bd):\n",
    "    fffit = freefreep(freqs, EM=EM1, Te=8000.)\n",
    "    fffit = fg.krj_to_radiance(freqs, fffit)*1.e26*beam\n",
    "    fffit2 = freefreep(freqs, EM=EM2, Te=8000.)\n",
    "    fffit2 = fg.krj_to_radiance(freqs, fffit2)*1.e26*beam2\n",
    "    dustfit = fg.thermal_dust(freqs, Ad=Ad, Bd=Bd, Td=18.96)\n",
    "    dustfit = fg.krj_to_radiance(freqs, dustfit)*1.e26*beam\n",
    "    return fffit + fffit2 + dustfit"
   ]
  },
  {
   "cell_type": "code",
   "execution_count": 11,
   "metadata": {
    "collapsed": true
   },
   "outputs": [],
   "source": [
    "def signal3(freqs, EM1, EM2, Ad, Bd, Te):\n",
    "    fffit = freefreep(freqs, EM=EM1, Te=8000.)\n",
    "    fffit = fg.krj_to_radiance(freqs, fffit)*1.e26*beam\n",
    "    fffit2 = freefreep(freqs, EM=EM2, Te=Te)\n",
    "    fffit2 = fg.krj_to_radiance(freqs, fffit2)*1.e26*beam2\n",
    "    dustfit = fg.thermal_dust(freqs, Ad=Ad, Bd=Bd, Td=18.96)\n",
    "    dustfit = fg.krj_to_radiance(freqs, dustfit)*1.e26*beam\n",
    "    return fffit + fffit2 + dustfit"
   ]
  },
  {
   "cell_type": "code",
   "execution_count": 12,
   "metadata": {
    "collapsed": false
   },
   "outputs": [],
   "source": [
    "pn = np.array([200., 80.e-5, 2., 1.e-3, 20.e9, 30.e-6])\n",
    "x = curve_fit(signal, cfs*1.e9, cjys, p0=pn, sigma=cerrs, absolute_sigma=True)\n",
    "pfit = x[0]"
   ]
  },
  {
   "cell_type": "code",
   "execution_count": 13,
   "metadata": {
    "collapsed": false
   },
   "outputs": [],
   "source": [
    "pn2 = np.array([145. , 1.e7, 50.e-5, 2.])\n",
    "y = curve_fit(signal2, cfs*1.e9, cjys, p0=pn2, sigma=cerrs, absolute_sigma=True)\n",
    "pfit2 = y[0]"
   ]
  },
  {
   "cell_type": "code",
   "execution_count": 14,
   "metadata": {
    "collapsed": false
   },
   "outputs": [],
   "source": [
    "nfreqs = [4.575, 5.625, 6.125, 7.175]\n",
    "newdata = [ 34.6409529, 35.52669743, 37.08009918, 36.56521972]"
   ]
  },
  {
   "cell_type": "code",
   "execution_count": 15,
   "metadata": {
    "collapsed": false
   },
   "outputs": [],
   "source": [
    "nfreqs = [4.575, 5.625, 6.125]\n",
    "newdata = [ 34.6409529, 35.52669743, 37.08009918]"
   ]
  },
  {
   "cell_type": "code",
   "execution_count": 16,
   "metadata": {
    "collapsed": true
   },
   "outputs": [],
   "source": [
    "bigfs = np.concatenate([cfs, np.array(nfreqs)])"
   ]
  },
  {
   "cell_type": "code",
   "execution_count": 17,
   "metadata": {
    "collapsed": true
   },
   "outputs": [],
   "source": [
    "bigdata = np.concatenate([cjys, np.array(newdata)])"
   ]
  },
  {
   "cell_type": "code",
   "execution_count": 40,
   "metadata": {
    "collapsed": true
   },
   "outputs": [],
   "source": [
    "bigerrs = np.concatenate([cerrs, np.array(newdata)*0.2])"
   ]
  },
  {
   "cell_type": "code",
   "execution_count": 41,
   "metadata": {
    "collapsed": false
   },
   "outputs": [],
   "source": [
    "pn = np.array([200., 80.e-5, 2., 1.e-3, 20.e9, 30.e-6])\n",
    "x = curve_fit(signal, bigfs*1.e9, bigdata, p0=pn, sigma=bigerrs, absolute_sigma=True)\n",
    "pfit3 = x[0]"
   ]
  },
  {
   "cell_type": "code",
   "execution_count": 42,
   "metadata": {
    "collapsed": false
   },
   "outputs": [],
   "source": [
    "pn2 = np.array([145. , 1.e7, 50.e-5, 2.])\n",
    "y = curve_fit(signal2, bigfs*1.e9, bigdata, p0=pn2, sigma=bigerrs, absolute_sigma=True)\n",
    "pfit4 = y[0]"
   ]
  },
  {
   "cell_type": "code",
   "execution_count": 43,
   "metadata": {
    "collapsed": false
   },
   "outputs": [
    {
     "data": {
      "text/plain": [
       "array([  3.15490959e+02,   6.27304865e-04,   2.23790342e+00,\n",
       "         7.92180022e-04,   2.86714860e+10,   6.91390603e-05])"
      ]
     },
     "execution_count": 43,
     "metadata": {},
     "output_type": "execute_result"
    }
   ],
   "source": [
    "pfit3"
   ]
  },
  {
   "cell_type": "code",
   "execution_count": 44,
   "metadata": {
    "collapsed": false
   },
   "outputs": [
    {
     "data": {
      "text/plain": [
       "array([  1.68596855e+02,   4.63902358e+07,   6.58789466e-04,\n",
       "         2.20301922e+00])"
      ]
     },
     "execution_count": 44,
     "metadata": {},
     "output_type": "execute_result"
    }
   ],
   "source": [
    "pfit4"
   ]
  },
  {
   "cell_type": "code",
   "execution_count": 45,
   "metadata": {
    "collapsed": true
   },
   "outputs": [],
   "source": [
    "xerrs = []\n",
    "for k in range(6):\n",
    "    xerrs.append(np.sqrt(x[1][k,k]))"
   ]
  },
  {
   "cell_type": "code",
   "execution_count": 46,
   "metadata": {
    "collapsed": true
   },
   "outputs": [],
   "source": [
    "yerrs = []\n",
    "for k in range(4):\n",
    "    yerrs.append(np.sqrt(y[1][k,k]))"
   ]
  },
  {
   "cell_type": "code",
   "execution_count": 47,
   "metadata": {
    "collapsed": false
   },
   "outputs": [
    {
     "data": {
      "text/plain": [
       "array([ 0.11400131,  0.18953952,  0.05923384,  0.42458716,  0.17270326,\n",
       "        0.59226732])"
      ]
     },
     "execution_count": 47,
     "metadata": {},
     "output_type": "execute_result"
    }
   ],
   "source": [
    "xerrs / x[0]"
   ]
  },
  {
   "cell_type": "code",
   "execution_count": 48,
   "metadata": {
    "collapsed": false
   },
   "outputs": [
    {
     "data": {
      "text/plain": [
       "array([ 0.28521341,  0.19157071,  0.16927605,  0.05434024])"
      ]
     },
     "execution_count": 48,
     "metadata": {},
     "output_type": "execute_result"
    }
   ],
   "source": [
    "yerrs / y[0]"
   ]
  },
  {
   "cell_type": "code",
   "execution_count": null,
   "metadata": {
    "collapsed": true
   },
   "outputs": [],
   "source": []
  },
  {
   "cell_type": "code",
   "execution_count": 49,
   "metadata": {
    "collapsed": false
   },
   "outputs": [
    {
     "data": {
      "image/png": "[encoded data removed]",
      "text/plain": [
       "<matplotlib.figure.Figure at 0x7f01e1804e90>"
      ]
     },
     "metadata": {},
     "output_type": "display_data"
    }
   ],
   "source": [
    "figure(figsize=(16,10))\n",
    "plot(nu, signal(freqs, *pfit), 'b', label='Spinning Dust Model')\n",
    "plot(nu, signal2(freqs, *pfit2), 'g', label='UCHII Region Model')\n",
    "plot(nu, signal(freqs, *pfit3), 'r')\n",
    "plot(nu, signal2(freqs, *pfit4), 'yellow')\n",
    "errorbar(bigfs, bigdata, yerr=bigerrs, fmt='ko', label='Planck and ancillary data')\n",
    "\n",
    "xscale('log')\n",
    "ylim([0, 90])\n",
    "xlim([1, 100])\n",
    "#yscale('log')\n",
    "xlabel('Frequency [GHz]')\n",
    "ylabel('Flux [Jy]')\n",
    "legend(loc=2, ncol=2, fontsize=20)\n",
    "grid()\n",
    "grid(which='minor')"
   ]
  },
  {
   "cell_type": "code",
   "execution_count": null,
   "metadata": {
    "collapsed": true
   },
   "outputs": [],
   "source": []
  }
 ],
 "metadata": {
  "kernelspec": {
   "display_name": "Python 2",
   "language": "python",
   "name": "python2"
  },
  "language_info": {
   "codemirror_mode": {
    "name": "ipython",
    "version": 2
   },
   "file_extension": ".py",
   "mimetype": "text/x-python",
   "name": "python",
   "nbconvert_exporter": "python",
   "pygments_lexer": "ipython2",
   "version": "2.7.13"
  }
 },
 "nbformat": 4,
 "nbformat_minor": 0
}
