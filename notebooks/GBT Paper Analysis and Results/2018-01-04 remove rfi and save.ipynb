{
 "cells": [
  {
   "cell_type": "code",
   "execution_count": 1,
   "metadata": {
    "collapsed": false
   },
   "outputs": [
    {
     "name": "stdout",
     "output_type": "stream",
     "text": [
      "Populating the interactive namespace from numpy and matplotlib\n"
     ]
    }
   ],
   "source": [
    "%pylab inline"
   ]
  },
  {
   "cell_type": "code",
   "execution_count": 2,
   "metadata": {
    "collapsed": true
   },
   "outputs": [],
   "source": [
    "from astropy.io import fits\n",
    "import glob"
   ]
  },
  {
   "cell_type": "code",
   "execution_count": 3,
   "metadata": {
    "collapsed": true
   },
   "outputs": [],
   "source": [
    "def mad(x, axis=None):\n",
    "    return np.nanmedian(np.abs(x - np.nanmedian(x, axis)), axis)"
   ]
  },
  {
   "cell_type": "code",
   "execution_count": null,
   "metadata": {
    "collapsed": true
   },
   "outputs": [],
   "source": [
    "def run():\n",
    "    fnames = glob.glob('/data2/GBT/*/Daisy/*/*.fits')\n",
    "    fnames.sort()\n",
    "    for filename in fnames:\n",
    "        try:\n",
    "            reduce_scan(filename)\n",
    "        except Exception as e:\n",
    "            print \"Failed on\",filename,e"
   ]
  },
  {
   "cell_type": "code",
   "execution_count": null,
   "metadata": {
    "collapsed": true
   },
   "outputs": [],
   "source": [
    "def reduce_scan(filename, nchannels=512):\n",
    "    f = fits.open(filename)\n",
    "    hdu = f[1]\n",
    "\n",
    "    data = hdu.data['DATA']\n",
    "    result = {}\n",
    "\n",
    "    N = 2**14\n",
    "    df = hdu.data['CDELT1'][0]\n",
    "    center_freq = hdu.data['CRVAL1'][0]\n",
    "    centerbin = hdu.data['CRPIX1'][0]\n",
    "    index = np.arange(N)\n",
    "    if_freqs = freqstest = index * (-df) # in Hz\n",
    "    freqs = (center_freq + df * (index + 1 - centerbin))[::-1]\n",
    "\n",
    "    result['source'] = hdu.data['PROCSCAN'][0]\n",
    "    result['centerfreq'] = center_freq\n",
    "    result['ra'] = hdu.data['CRVAL2']\n",
    "    result['dec'] = hdu.data['CRVAL3']\n",
    "    result['sra'] = hdu.data['CRVAL2'][::8]\n",
    "    result['sdec'] = hdu.data['CRVAL3'][::8]\n",
    "    result['tcalx'] = hdu.data['TCAL'][:1]\n",
    "    result['tcaly'] = hdu.data['TCAL'][2:3]\n",
    "\n",
    "    xxoff = data[::8,::-1]\n",
    "    xxon = data[1::8,::-1]\n",
    "    yyoff = data[2::8,::-1]\n",
    "    yyon = data[3::8,::-1]\n",
    "    xyoff = data[4::8,::-1]\n",
    "    xyon = data[5::8,::-1]\n",
    "    yxoff = data[6::8,::-1]\n",
    "    yxon = data[7::8,::-1]\n",
    "\n",
    "    mask = np.ones(N, dtype=bool)\n",
    "    mask[(index % 512) == 511] = False\n",
    "    mask[if_freqs < 150.e6] = False\n",
    "    mask[if_freqs > 1400.e6] = False\n",
    "\n",
    "    if filename.split('.')[-2] == 'A':\n",
    "        mask[(freqs >= 4.225e9) & (freqs <= 4.375e9)] = False\n",
    "\n",
    "    xxoff[:, ~mask] = np.nan\n",
    "\n",
    "    ratio = np.zeros(N)\n",
    "    ratio[mask] = np.nanstd(xxoff[:, mask], 0) / np.nanmean(xxoff[:, mask], 0)\n",
    "    ratio[~mask] = np.nan\n",
    "    ratio_mad = 5. / 0.67449 * mad(ratio[mask])\n",
    "    bad = np.zeros_like(mask)\n",
    "    bad[mask] = np.abs(ratio[mask] - np.nanmean(ratio[mask])) > ratio_mad\n",
    "    mask[bad] = False\n",
    "    xxoff[:, ~mask] = np.nan\n",
    "\n",
    "    msdata = np.zeros_like(xxoff)\n",
    "    msdata[:, mask] = xxoff[:, mask] - np.nanmean(xxoff[:, mask], 0)\n",
    "    msdata[:, ~mask] = np.nan\n",
    "\n",
    "    speck = np.zeros(xxoff.shape[1])\n",
    "    speck[mask] = np.nanmean((msdata[:, mask]**4), 0) / np.nanmean((msdata[:, mask]**2), 0)**2\n",
    "    speck[~mask] = np.nan\n",
    "    speck_mad = 5. / 0.67449 * mad(speck[mask])\n",
    "    bad = np.zeros_like(mask)\n",
    "    bad[mask] = np.abs(speck[mask] - np.nanmean(speck[mask])) > speck_mad\n",
    "    mask[bad] = False\n",
    "\n",
    "    xxoff[:, ~mask] = np.nan\n",
    "    xxon[:, ~mask] = np.nan\n",
    "    yyoff[:, ~mask] = np.nan\n",
    "    yyon[:, ~mask] = np.nan\n",
    "    xyoff[:, ~mask] = np.nan\n",
    "    xyon[:, ~mask] = np.nan\n",
    "    yxoff[:, ~mask] = np.nan\n",
    "    yxon[:, ~mask] = np.nan\n",
    "\n",
    "    result['xxoff'] = np.nanmean(xxoff.reshape(-1, nchannels, N//nchannels), 2)\n",
    "    result['xxon'] = np.nanmean(xxon.reshape(-1, nchannels, N//nchannels), 2)\n",
    "    result['yyoff'] = np.nanmean(yyoff.reshape(-1, nchannels, N//nchannels), 2)\n",
    "    result['yyon'] = np.nanmean(yyon.reshape(-1, nchannels, N//nchannels), 2)\n",
    "    result['xyoff'] = np.nanmean(xyoff.reshape(-1, nchannels, N//nchannels), 2)\n",
    "    result['xyon'] = np.nanmean(xyon.reshape(-1, nchannels, N//nchannels), 2)\n",
    "    result['yxoff'] = np.nanmean(yxoff.reshape(-1, nchannels, N//nchannels), 2)\n",
    "    result['yxon'] = np.nanmean(yxon.reshape(-1, nchannels, N//nchannels), 2)\n",
    "\n",
    "    result['original_freqs'] = freqs\n",
    "    result['freqs'] = np.nanmean(freqs.reshape(nchannels, -1), 1)\n",
    "    result['nweight'] = np.sum(mask.reshape(nchannels, -1).astype(int), 1)\n",
    "    result['valid'] = result['nweight'] > 0\n",
    "    result['mask'] = mask\n",
    "\n",
    "    freqs[~mask] = np.nan\n",
    "    result['weighted_freqs'] = np.nanmean(freqs.reshape(nchannels, -1), 1)\n",
    "\n",
    "    for name in hdu.columns.names:\n",
    "        if name not in ['DATA', 'CRVAL2','CRVAL3','TCAL']:\n",
    "            if len(np.unique(hdu.data[name]))==1:\n",
    "                result[name] = hdu.data[name][:1]\n",
    "            else:\n",
    "                result[name] = hdu.data[name]\n",
    "    #outfile = filename + '.rfireduced_new.npz'\n",
    "    #print \"saving to\",outfile\n",
    "    #np.savez(outfile,**result)\n",
    "    return"
   ]
  }
 ],
 "metadata": {
  "kernelspec": {
   "display_name": "Python 2",
   "language": "python",
   "name": "python2"
  },
  "language_info": {
   "codemirror_mode": {
    "name": "ipython",
    "version": 2
   },
   "file_extension": ".py",
   "mimetype": "text/x-python",
   "name": "python",
   "nbconvert_exporter": "python",
   "pygments_lexer": "ipython2",
   "version": "2.7.13"
  }
 },
 "nbformat": 4,
 "nbformat_minor": 2
}
