{
 "cells": [
  {
   "cell_type": "code",
   "execution_count": 1,
   "metadata": {
    "collapsed": false
   },
   "outputs": [
    {
     "name": "stdout",
     "output_type": "stream",
     "text": [
      "Populating the interactive namespace from numpy and matplotlib\n"
     ]
    }
   ],
   "source": [
    "%pylab inline"
   ]
  },
  {
   "cell_type": "code",
   "execution_count": 2,
   "metadata": {
    "collapsed": true
   },
   "outputs": [],
   "source": [
    "import glob"
   ]
  },
  {
   "cell_type": "code",
   "execution_count": 6,
   "metadata": {
    "collapsed": true
   },
   "outputs": [],
   "source": [
    "fnames = glob.glob('/data2/GBT/*/*/*/*rfireduced.npz')\n",
    "fnames.sort()"
   ]
  },
  {
   "cell_type": "code",
   "execution_count": 7,
   "metadata": {
    "collapsed": false
   },
   "outputs": [
    {
     "data": {
      "text/plain": [
       "['/data2/GBT/3C295/OnOff/scan39.raw.vegas/scan39.raw.vegas.A.fits.rfireduced.npz',\n",
       " '/data2/GBT/3C295/OnOff/scan39.raw.vegas/scan39.raw.vegas.B.fits.rfireduced.npz',\n",
       " '/data2/GBT/3C295/OnOff/scan39.raw.vegas/scan39.raw.vegas.C.fits.rfireduced.npz',\n",
       " '/data2/GBT/3C295/OnOff/scan39.raw.vegas/scan39.raw.vegas.D.fits.rfireduced.npz',\n",
       " '/data2/GBT/3C295/OnOff/scan40.raw.vegas/scan40.raw.vegas.A.fits.rfireduced.npz',\n",
       " '/data2/GBT/3C295/OnOff/scan40.raw.vegas/scan40.raw.vegas.B.fits.rfireduced.npz',\n",
       " '/data2/GBT/3C295/OnOff/scan40.raw.vegas/scan40.raw.vegas.C.fits.rfireduced.npz',\n",
       " '/data2/GBT/3C295/OnOff/scan40.raw.vegas/scan40.raw.vegas.D.fits.rfireduced.npz',\n",
       " '/data2/GBT/3C295/OnOff/scan7.raw.vegas/scan7.raw.vegas.A.fits.rfireduced.npz',\n",
       " '/data2/GBT/3C295/OnOff/scan8.raw.vegas/scan8.raw.vegas.A.fits.rfireduced.npz',\n",
       " '/data2/GBT/3C295/OnOff/scan8.raw.vegas/scan8.raw.vegas.B.fits.rfireduced.npz',\n",
       " '/data2/GBT/3C295/OnOff/scan8.raw.vegas/scan8.raw.vegas.C.fits.rfireduced.npz',\n",
       " '/data2/GBT/3C295/OnOff/scan8.raw.vegas/scan8.raw.vegas.D.fits.rfireduced.npz',\n",
       " '/data2/GBT/3C295/OnOff/scan_02_6.raw.vegas/scan_02_6.raw.vegas.C.fits.rfireduced.npz',\n",
       " '/data2/GBT/3C295/OnOff/scan_02_7.raw.vegas/scan_02_7.raw.vegas.D.fits.rfireduced.npz',\n",
       " '/data2/GBT/3C295/OnOff/scan_03_7.raw.vegas/scan_03_7.raw.vegas.A.fits.rfireduced.npz',\n",
       " '/data2/GBT/3C295/OnOff/scan_03_7.raw.vegas/scan_03_7.raw.vegas.B.fits.rfireduced.npz',\n",
       " '/data2/GBT/3C295/OnOff/scan_03_7.raw.vegas/scan_03_7.raw.vegas.C.fits.rfireduced.npz',\n",
       " '/data2/GBT/3C295/OnOff/scan_03_7.raw.vegas/scan_03_7.raw.vegas.D.fits.rfireduced.npz']"
      ]
     },
     "execution_count": 7,
     "metadata": {},
     "output_type": "execute_result"
    }
   ],
   "source": [
    "fnames"
   ]
  },
  {
   "cell_type": "code",
   "execution_count": null,
   "metadata": {
    "collapsed": true
   },
   "outputs": [],
   "source": []
  }
 ],
 "metadata": {
  "kernelspec": {
   "display_name": "Python 2",
   "language": "python",
   "name": "python2"
  },
  "language_info": {
   "codemirror_mode": {
    "name": "ipython",
    "version": 2
   },
   "file_extension": ".py",
   "mimetype": "text/x-python",
   "name": "python",
   "nbconvert_exporter": "python",
   "pygments_lexer": "ipython2",
   "version": "2.7.13"
  }
 },
 "nbformat": 4,
 "nbformat_minor": 2
}
