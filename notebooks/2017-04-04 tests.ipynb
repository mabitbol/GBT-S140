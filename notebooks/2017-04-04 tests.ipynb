{
 "cells": [
  {
   "cell_type": "code",
   "execution_count": 1,
   "metadata": {
    "collapsed": false,
    "deletable": true,
    "editable": true
   },
   "outputs": [
    {
     "name": "stdout",
     "output_type": "stream",
     "text": [
      "Populating the interactive namespace from numpy and matplotlib\n"
     ]
    }
   ],
   "source": [
    "%pylab inline"
   ]
  },
  {
   "cell_type": "code",
   "execution_count": 2,
   "metadata": {
    "collapsed": true,
    "deletable": true,
    "editable": true
   },
   "outputs": [],
   "source": [
    "from astropy.io import fits"
   ]
  },
  {
   "cell_type": "code",
   "execution_count": 3,
   "metadata": {
    "collapsed": true,
    "deletable": true,
    "editable": true
   },
   "outputs": [],
   "source": [
    "datafilename = '/home/scratch/mabitbol/OnOff3C280_end.raw.vegas/OnOff3C280_end.raw.vegas.A.fits'"
   ]
  },
  {
   "cell_type": "code",
   "execution_count": 4,
   "metadata": {
    "collapsed": false,
    "deletable": true,
    "editable": true
   },
   "outputs": [],
   "source": [
    "f = fits.open(datafilename)"
   ]
  },
  {
   "cell_type": "code",
   "execution_count": 5,
   "metadata": {
    "collapsed": true,
    "deletable": true,
    "editable": true
   },
   "outputs": [],
   "source": [
    "hdu = f[1]"
   ]
  },
  {
   "cell_type": "code",
   "execution_count": null,
   "metadata": {
    "collapsed": true,
    "deletable": true,
    "editable": true
   },
   "outputs": [],
   "source": [
    "hdu.data['CRVAL1']"
   ]
  },
  {
   "cell_type": "code",
   "execution_count": 7,
   "metadata": {
    "collapsed": false,
    "deletable": true,
    "editable": true
   },
   "outputs": [
    {
     "data": {
      "text/plain": [
       "['OBJECT',\n",
       " 'BANDWID',\n",
       " 'DATE-OBS',\n",
       " 'DURATION',\n",
       " 'EXPOSURE',\n",
       " 'TSYS',\n",
       " 'DATA',\n",
       " 'TDIM7',\n",
       " 'TUNIT7',\n",
       " 'CTYPE1',\n",
       " 'CRVAL1',\n",
       " 'CRPIX1',\n",
       " 'CDELT1',\n",
       " 'CTYPE2',\n",
       " 'CRVAL2',\n",
       " 'CTYPE3',\n",
       " 'CRVAL3',\n",
       " 'CRVAL4',\n",
       " 'OBSERVER',\n",
       " 'OBSID',\n",
       " 'SCAN',\n",
       " 'OBSMODE',\n",
       " 'FRONTEND',\n",
       " 'TCAL',\n",
       " 'VELDEF',\n",
       " 'VFRAME',\n",
       " 'RVSYS',\n",
       " 'OBSFREQ',\n",
       " 'LST',\n",
       " 'AZIMUTH',\n",
       " 'ELEVATIO',\n",
       " 'TAMBIENT',\n",
       " 'PRESSURE',\n",
       " 'HUMIDITY',\n",
       " 'RESTFREQ',\n",
       " 'FREQRES',\n",
       " 'EQUINOX',\n",
       " 'RADESYS',\n",
       " 'TRGTLONG',\n",
       " 'TRGTLAT',\n",
       " 'SAMPLER',\n",
       " 'FEED',\n",
       " 'SRFEED',\n",
       " 'FEEDXOFF',\n",
       " 'FEEDEOFF',\n",
       " 'SUBREF_STATE',\n",
       " 'SIDEBAND',\n",
       " 'PROCSEQN',\n",
       " 'PROCSIZE',\n",
       " 'PROCSCAN',\n",
       " 'PROCTYPE',\n",
       " 'LASTON',\n",
       " 'LASTOFF',\n",
       " 'TIMESTAMP',\n",
       " 'QD_XEL',\n",
       " 'QD_EL',\n",
       " 'QD_BAD',\n",
       " 'QD_METHOD',\n",
       " 'VELOCITY',\n",
       " 'ZEROCHAN',\n",
       " 'DOPFREQ',\n",
       " 'ADCSAMPF',\n",
       " 'VSPDELT',\n",
       " 'VSPRVAL',\n",
       " 'VSPRPIX',\n",
       " 'SIG',\n",
       " 'CAL',\n",
       " 'CALTYPE',\n",
       " 'TWARM',\n",
       " 'TCOLD',\n",
       " 'CALPOSITION',\n",
       " 'IFNUM',\n",
       " 'PLNUM',\n",
       " 'FDNUM']"
      ]
     },
     "execution_count": 7,
     "metadata": {},
     "output_type": "execute_result"
    }
   ],
   "source": [
    "hdu.columns.names"
   ]
  },
  {
   "cell_type": "code",
   "execution_count": 8,
   "metadata": {
    "collapsed": false,
    "deletable": true,
    "editable": true
   },
   "outputs": [
    {
     "ename": "TypeError",
     "evalue": "'BinTableHDU' object has no attribute '__getitem__'",
     "output_type": "error",
     "traceback": [
      "\u001b[0;31m---------------------------------------------------------------------------\u001b[0m",
      "\u001b[0;31mTypeError\u001b[0m                                 Traceback (most recent call last)",
      "\u001b[0;32m<ipython-input-8-b57e2f301cda>\u001b[0m in \u001b[0;36m<module>\u001b[0;34m()\u001b[0m\n\u001b[0;32m----> 1\u001b[0;31m \u001b[0mhdu\u001b[0m\u001b[0;34m[\u001b[0m\u001b[0;34m'freqs'\u001b[0m\u001b[0;34m]\u001b[0m\u001b[0;34m\u001b[0m\u001b[0m\n\u001b[0m",
      "\u001b[0;31mTypeError\u001b[0m: 'BinTableHDU' object has no attribute '__getitem__'"
     ]
    }
   ],
   "source": [
    "hdu['freqs']"
   ]
  },
  {
   "cell_type": "code",
   "execution_count": null,
   "metadata": {
    "collapsed": true,
    "deletable": true,
    "editable": true
   },
   "outputs": [],
   "source": []
  }
 ],
 "metadata": {
  "kernelspec": {
   "display_name": "Python 2",
   "language": "python",
   "name": "python2"
  },
  "language_info": {
   "codemirror_mode": {
    "name": "ipython",
    "version": 2
   },
   "file_extension": ".py",
   "mimetype": "text/x-python",
   "name": "python",
   "nbconvert_exporter": "python",
   "pygments_lexer": "ipython2",
   "version": "2.7.13"
  }
 },
 "nbformat": 4,
 "nbformat_minor": 2
}
