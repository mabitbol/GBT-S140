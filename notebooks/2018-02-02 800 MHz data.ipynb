{
 "cells": [
  {
   "cell_type": "code",
   "execution_count": 1,
   "metadata": {
    "collapsed": false
   },
   "outputs": [
    {
     "name": "stdout",
     "output_type": "stream",
     "text": [
      "Populating the interactive namespace from numpy and matplotlib\n"
     ]
    }
   ],
   "source": [
    "%pylab inline"
   ]
  },
  {
   "cell_type": "code",
   "execution_count": 2,
   "metadata": {
    "collapsed": true
   },
   "outputs": [],
   "source": [
    "from astropy.io import fits\n",
    "import healpy as hp"
   ]
  },
  {
   "cell_type": "code",
   "execution_count": 3,
   "metadata": {
    "collapsed": true
   },
   "outputs": [],
   "source": [
    "kboltz=1.3806503e-23 #MKS\n",
    "clight=299792458.0 #MKS\n",
    "hplanck=6.626068e-34 #MKS\n",
    "TCMB = 2.72548 #Kelvin\n",
    "d2r = np.pi / 180."
   ]
  },
  {
   "cell_type": "code",
   "execution_count": 4,
   "metadata": {
    "collapsed": true
   },
   "outputs": [],
   "source": [
    "lonc = 107.2\n",
    "latc = 5.2\n",
    "lonra = [lonc-2., lonc+2.]\n",
    "latra = [latc-2., latc+2.]"
   ]
  },
  {
   "cell_type": "code",
   "execution_count": 20,
   "metadata": {
    "collapsed": false
   },
   "outputs": [],
   "source": [
    "dwingeloo = hp.read_map('../externaldata/820MHz_1_128.fits', verbose=False)\n",
    "#dwingeloo = hp.ud_grade(dwingeloo, 512)"
   ]
  },
  {
   "cell_type": "code",
   "execution_count": 21,
   "metadata": {
    "collapsed": false
   },
   "outputs": [
    {
     "data": {
      "image/png": "[encoded data removed]",
      "text/plain": [
       "<matplotlib.figure.Figure at 0x7f2ee47aed50>"
      ]
     },
     "metadata": {},
     "output_type": "display_data"
    }
   ],
   "source": [
    "hp.cartview(dwingeloo, lonra=lonra, latra=latra)"
   ]
  },
  {
   "cell_type": "code",
   "execution_count": 22,
   "metadata": {
    "collapsed": false
   },
   "outputs": [],
   "source": [
    "x = np.copy(dwingeloo)\n",
    "nside = hp.get_nside(x)\n",
    "vecc = hp.rotator.dir2vec(lonc, latc, lonlat=True)\n",
    "rmask = hp.query_disc(nside, vecc, 1.*d2r)\n",
    "amaskout = set(hp.query_disc(nside, vecc, (100./60.)*d2r))\n",
    "amaskin = set(hp.query_disc(nside, vecc, (80./60.)*d2r))\n",
    "amask = np.array(list(amaskout.difference(amaskin)))"
   ]
  },
  {
   "cell_type": "code",
   "execution_count": 23,
   "metadata": {
    "collapsed": false
   },
   "outputs": [
    {
     "name": "stdout",
     "output_type": "stream",
     "text": [
      "249.778985602\n",
      "25.3475748301\n"
     ]
    }
   ],
   "source": [
    "nu = 820.e6\n",
    "kthermo_to_intensity = 2. * kboltz * (nu / clight)**2 * hp.nside2pixarea(nside) * 1.e26\n",
    "y = x * kthermo_to_intensity\n",
    "rdata = y[rmask]\n",
    "adata = y[amask]\n",
    "print np.sum(rdata - np.median(adata))\n",
    "print np.std(adata) * np.sqrt(len(rdata) + pi/2. * float(len(rdata)**2) / len(adata))"
   ]
  },
  {
   "cell_type": "code",
   "execution_count": null,
   "metadata": {
    "collapsed": true
   },
   "outputs": [],
   "source": []
  },
  {
   "cell_type": "code",
   "execution_count": null,
   "metadata": {
    "collapsed": true
   },
   "outputs": [],
   "source": []
  }
 ],
 "metadata": {
  "kernelspec": {
   "display_name": "Python 2",
   "language": "python",
   "name": "python2"
  },
  "language_info": {
   "codemirror_mode": {
    "name": "ipython",
    "version": 2
   },
   "file_extension": ".py",
   "mimetype": "text/x-python",
   "name": "python",
   "nbconvert_exporter": "python",
   "pygments_lexer": "ipython2",
   "version": "2.7.13"
  }
 },
 "nbformat": 4,
 "nbformat_minor": 2
}
