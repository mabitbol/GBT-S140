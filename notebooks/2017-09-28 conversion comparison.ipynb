{
 "cells": [
  {
   "cell_type": "code",
   "execution_count": 1,
   "metadata": {
    "collapsed": false
   },
   "outputs": [
    {
     "name": "stdout",
     "output_type": "stream",
     "text": [
      "Populating the interactive namespace from numpy and matplotlib\n"
     ]
    }
   ],
   "source": [
    "%pylab inline"
   ]
  },
  {
   "cell_type": "code",
   "execution_count": 2,
   "metadata": {
    "collapsed": true
   },
   "outputs": [],
   "source": [
    "from astropy.io import fits\n",
    "import healpy as hp"
   ]
  },
  {
   "cell_type": "code",
   "execution_count": 3,
   "metadata": {
    "collapsed": true
   },
   "outputs": [],
   "source": [
    "kboltz=1.3806503e-23 #MKS\n",
    "clight=299792458.0 #MKS\n",
    "hplanck=6.626068e-34 #MKS\n",
    "TCMB = 2.72548 #Kelvin\n",
    "d2r = np.pi / 180."
   ]
  },
  {
   "cell_type": "code",
   "execution_count": 4,
   "metadata": {
    "collapsed": true
   },
   "outputs": [],
   "source": [
    "nu = np.linspace(100, 1000, 1000) *1e9"
   ]
  },
  {
   "cell_type": "code",
   "execution_count": 6,
   "metadata": {
    "collapsed": false
   },
   "outputs": [],
   "source": [
    "X = hplanck * nu / (kboltz * TCMB) \n",
    "G = 2. * kboltz * (nu / clight)**2 * (X**2 * np.exp(X)) / (np.exp(X) - 1.)**2"
   ]
  },
  {
   "cell_type": "code",
   "execution_count": 12,
   "metadata": {
    "collapsed": false
   },
   "outputs": [
    {
     "data": {
      "text/plain": [
       "(0.1, 1000)"
      ]
     },
     "execution_count": 12,
     "metadata": {},
     "output_type": "execute_result"
    },
    {
     "data": {
      "image/png": "[encoded data removed]",
      "text/plain": [
       "<matplotlib.figure.Figure at 0x7f2efc4e0190>"
      ]
     },
     "metadata": {},
     "output_type": "display_data"
    }
   ],
   "source": [
    "figsize(8,8)\n",
    "semilogy(nu*1e-9, G*1e26*1e-6)\n",
    "grid()\n",
    "xlim(100, 1000)\n",
    "ylim(0.1, 1000)"
   ]
  },
  {
   "cell_type": "code",
   "execution_count": null,
   "metadata": {
    "collapsed": true
   },
   "outputs": [],
   "source": []
  },
  {
   "cell_type": "code",
   "execution_count": null,
   "metadata": {
    "collapsed": true
   },
   "outputs": [],
   "source": []
  },
  {
   "cell_type": "code",
   "execution_count": null,
   "metadata": {
    "collapsed": true
   },
   "outputs": [],
   "source": []
  },
  {
   "cell_type": "code",
   "execution_count": 4,
   "metadata": {
    "collapsed": true
   },
   "outputs": [],
   "source": [
    "lonc = 107.2\n",
    "latc = 5.2\n",
    "lonra = [lonc-2., lonc+2.]\n",
    "latra = [latc-2., latc+2.]"
   ]
  },
  {
   "cell_type": "code",
   "execution_count": 5,
   "metadata": {
    "collapsed": false
   },
   "outputs": [],
   "source": [
    "haslam0408 = hp.read_map('../externaldata/lambda_haslam408_dsds.fits', verbose=False)\n",
    "#haslam0408 = hp.ud_grade(hp.smoothing(haslam0408, fwhm=1.*d2r), 512)"
   ]
  },
  {
   "cell_type": "code",
   "execution_count": 6,
   "metadata": {
    "collapsed": false
   },
   "outputs": [],
   "source": [
    "x = np.copy(haslam0408)\n",
    "nside = hp.get_nside(x)\n",
    "vecc = hp.rotator.dir2vec(lonc, latc, lonlat=True)\n",
    "rmask = hp.query_disc(nside, vecc, 1.*d2r)\n",
    "amaskout = set(hp.query_disc(nside, vecc, 2.*d2r))\n",
    "amaskin = set(hp.query_disc(nside, vecc, (80./60.)*d2r))\n",
    "amask = np.array(list(amaskout.difference(amaskin)))"
   ]
  },
  {
   "cell_type": "code",
   "execution_count": 7,
   "metadata": {
    "collapsed": false
   },
   "outputs": [
    {
     "name": "stdout",
     "output_type": "stream",
     "text": [
      "21.517600061 0.76064909027\n"
     ]
    }
   ],
   "source": [
    "nu = 408.e6\n",
    "kthermo_to_intensity = 2. * kboltz * (nu / clight)**2 * hp.nside2pixarea(nside) * 1.e26\n",
    "y = x * kthermo_to_intensity\n",
    "rdata = y[rmask]\n",
    "adata = y[amask]\n",
    "print np.sum(rdata - np.median(adata)), np.std(adata) * np.sqrt(len(rdata))"
   ]
  },
  {
   "cell_type": "code",
   "execution_count": null,
   "metadata": {
    "collapsed": true
   },
   "outputs": [],
   "source": []
  },
  {
   "cell_type": "code",
   "execution_count": null,
   "metadata": {
    "collapsed": true
   },
   "outputs": [],
   "source": [
    "wmap23 = hp.read_map('../externaldata/wmap_band_smth_imap_r9_9yr_K_v5.fits', verbose=False) * 1.e-3\n",
    "x = np.copy(wmap23)\n",
    "nside = hp.get_nside(x)\n",
    "vecc = hp.rotator.dir2vec(lonc, latc, lonlat=True)\n",
    "rmask = hp.query_disc(nside, vecc, 1.*d2r)\n",
    "amaskout = set(hp.query_disc(nside, vecc, 2.*d2r))\n",
    "amaskin = set(hp.query_disc(nside, vecc, (80./60.)*d2r))\n",
    "amask = np.array(list(amaskout.difference(amaskin)))\n",
    "nu = 22.71e9\n",
    "X = hplanck * nu / (kboltz * TCMB) \n",
    "kcmb_to_kthermo = (np.exp(X) - 1.)**2 / (X**2 * np.exp(X))\n",
    "kthermo_to_intensity = 2. * kboltz * (nu / clight)**2 * hp.nside2pixarea(nside) * 1.e26 \n",
    "y = x * kcmb_to_kthermo * kthermo_to_intensity\n",
    "rdata = y[rmask]\n",
    "adata = y[amask]\n",
    "print np.sum(rdata - np.median(adata)), np.std(adata) * np.sqrt(len(rdata))"
   ]
  },
  {
   "cell_type": "code",
   "execution_count": 9,
   "metadata": {
    "collapsed": true
   },
   "outputs": [],
   "source": [
    "def wmap_calc(wmap, nu):\n",
    "    wmapmap = hp.read_map(wmap, verbose=False) * 1.e-3\n",
    "    x = np.copy(wmapmap)\n",
    "    nside = hp.get_nside(x)\n",
    "    vecc = hp.rotator.dir2vec(lonc, latc, lonlat=True)\n",
    "    rmask = hp.query_disc(nside, vecc, 1.*d2r)\n",
    "    amaskout = set(hp.query_disc(nside, vecc, 2.*d2r))\n",
    "    amaskin = set(hp.query_disc(nside, vecc, (80./60.)*d2r))\n",
    "    amask = np.array(list(amaskout.difference(amaskin)))\n",
    "    X = hplanck * nu / (kboltz * TCMB) \n",
    "    #kcmb_to_kthermo = (np.exp(X) - 1.)**2 / (X**2 * np.exp(X))\n",
    "    kthermo_to_intensity = 2. * kboltz * (nu / clight)**2 * (X**2 * np.exp(X)) / (np.exp(X) - 1.)**2\n",
    "    y = x * kthermo_to_intensity * hp.nside2pixarea(nside) * 1.e26 \n",
    "    rdata = y[rmask]\n",
    "    adata = y[amask]\n",
    "    print np.sum(rdata - np.median(adata)), np.std(adata) * np.sqrt(len(rdata))"
   ]
  },
  {
   "cell_type": "code",
   "execution_count": 10,
   "metadata": {
    "collapsed": true
   },
   "outputs": [],
   "source": [
    "def planck_calc(planck, nu):\n",
    "    planckmap = hp.read_map(planck, verbose=False)\n",
    "    #planckmap = hp.ud_grade(hp.smoothing(planckmap, fwhm=1.*d2r, verbose=False), 512)\n",
    "    planckmap = hp.smoothing(hp.ud_grade(planckmap, 512), fwhm=1.*d2r, verbose=False)\n",
    "    x = np.copy(planckmap)\n",
    "    nside = hp.get_nside(x)\n",
    "    vecc = hp.rotator.dir2vec(lonc, latc, lonlat=True)\n",
    "    rmask = hp.query_disc(nside, vecc, 1.*d2r)\n",
    "    amaskout = set(hp.query_disc(nside, vecc, 2.*d2r))\n",
    "    amaskin = set(hp.query_disc(nside, vecc, (80./60.)*d2r))\n",
    "    amask = np.array(list(amaskout.difference(amaskin)))\n",
    "    X = hplanck * nu / (kboltz * TCMB) \n",
    "    kthermo_to_intensity = 2. * kboltz * (nu / clight)**2 * (X**2 * np.exp(X)) / (np.exp(X) - 1.)**2\n",
    "    if nu < 400e9:\n",
    "        y = x * kthermo_to_intensity * hp.nside2pixarea(nside) * 1.e26 \n",
    "    else:\n",
    "        y = x * 1e6 * hp.nside2pixarea(nside)\n",
    "    rdata = y[rmask]\n",
    "    adata = y[amask]\n",
    "    print np.sum(rdata - np.median(adata)), np.std(adata) * np.sqrt(len(rdata))"
   ]
  },
  {
   "cell_type": "code",
   "execution_count": null,
   "metadata": {
    "collapsed": true
   },
   "outputs": [],
   "source": []
  },
  {
   "cell_type": "code",
   "execution_count": 148,
   "metadata": {
    "collapsed": false
   },
   "outputs": [
    {
     "name": "stdout",
     "output_type": "stream",
     "text": [
      "Sigma is 0.000000 arcmin (0.000000 rad) \n",
      "-> fwhm is 0.000000 arcmin\n",
      "34.0938129227 0.499954790305\n"
     ]
    }
   ],
   "source": [
    "planck_calc('../externaldata/LFI_SkyMap_030-field-IQU_1024_R2.01_full.fits', nu=28.5e9)"
   ]
  },
  {
   "cell_type": "code",
   "execution_count": 149,
   "metadata": {
    "collapsed": false
   },
   "outputs": [
    {
     "name": "stdout",
     "output_type": "stream",
     "text": [
      "Sigma is 0.000000 arcmin (0.000000 rad) \n",
      "-> fwhm is 0.000000 arcmin\n",
      "31.0214717244 0.484510652725\n"
     ]
    }
   ],
   "source": [
    "planck_calc('../externaldata/LFI_SkyMap_044-field-IQU_1024_R2.01_full.fits', nu=44.1e9)"
   ]
  },
  {
   "cell_type": "code",
   "execution_count": 150,
   "metadata": {
    "collapsed": false
   },
   "outputs": [
    {
     "name": "stdout",
     "output_type": "stream",
     "text": [
      "Sigma is 0.000000 arcmin (0.000000 rad) \n",
      "-> fwhm is 0.000000 arcmin\n",
      "30.8416544601 0.752870316413\n"
     ]
    }
   ],
   "source": [
    "planck_calc('../externaldata/LFI_SkyMap_070-field-IQU_1024_R2.01_full.fits', nu=70.3e9)"
   ]
  },
  {
   "cell_type": "code",
   "execution_count": 151,
   "metadata": {
    "collapsed": false
   },
   "outputs": [
    {
     "name": "stdout",
     "output_type": "stream",
     "text": [
      "Sigma is 0.000000 arcmin (0.000000 rad) \n",
      "-> fwhm is 0.000000 arcmin\n",
      "98.2854344619 3.96727436994\n"
     ]
    }
   ],
   "source": [
    "planck_calc('../externaldata/HFI_SkyMap_143-field-IQU_2048_R2.02_full.fits', nu=143.e9)"
   ]
  },
  {
   "cell_type": "code",
   "execution_count": 152,
   "metadata": {
    "collapsed": false
   },
   "outputs": [
    {
     "name": "stdout",
     "output_type": "stream",
     "text": [
      "Sigma is 0.000000 arcmin (0.000000 rad) \n",
      "-> fwhm is 0.000000 arcmin\n",
      "464.589826389 15.7643548539\n"
     ]
    }
   ],
   "source": [
    "planck_calc('../externaldata/HFI_SkyMap_217-field-IQU_2048_R2.02_full.fits', nu=217.e9)"
   ]
  },
  {
   "cell_type": "code",
   "execution_count": 153,
   "metadata": {
    "collapsed": false
   },
   "outputs": [
    {
     "name": "stdout",
     "output_type": "stream",
     "text": [
      "Sigma is 0.000000 arcmin (0.000000 rad) \n",
      "-> fwhm is 0.000000 arcmin\n",
      "1963.34800683 64.71523176\n"
     ]
    }
   ],
   "source": [
    "planck_calc('../externaldata/HFI_SkyMap_353-field-IQU_2048_R2.02_full.fits', nu=353.e9)"
   ]
  },
  {
   "cell_type": "code",
   "execution_count": 154,
   "metadata": {
    "collapsed": false
   },
   "outputs": [
    {
     "name": "stdout",
     "output_type": "stream",
     "text": [
      "Sigma is 0.000000 arcmin (0.000000 rad) \n",
      "-> fwhm is 0.000000 arcmin\n",
      "6584.77605578 199.031172171\n"
     ]
    }
   ],
   "source": [
    "planck_calc('../externaldata/HFI_SkyMap_545-field-Int_2048_R2.02_full.fits', nu=545.e9)"
   ]
  },
  {
   "cell_type": "code",
   "execution_count": 155,
   "metadata": {
    "collapsed": false
   },
   "outputs": [
    {
     "name": "stdout",
     "output_type": "stream",
     "text": [
      "Sigma is 0.000000 arcmin (0.000000 rad) \n",
      "-> fwhm is 0.000000 arcmin\n",
      "21576.6144537 559.282861732\n"
     ]
    }
   ],
   "source": [
    "planck_calc('../externaldata/HFI_SkyMap_857-field-Int_2048_R2.02_full.fits', nu=857.e9)"
   ]
  },
  {
   "cell_type": "code",
   "execution_count": null,
   "metadata": {
    "collapsed": true
   },
   "outputs": [],
   "source": []
  },
  {
   "cell_type": "code",
   "execution_count": null,
   "metadata": {
    "collapsed": true
   },
   "outputs": [],
   "source": []
  },
  {
   "cell_type": "code",
   "execution_count": 11,
   "metadata": {
    "collapsed": false
   },
   "outputs": [
    {
     "name": "stdout",
     "output_type": "stream",
     "text": [
      "38.3596538566 0.542670744947\n"
     ]
    }
   ],
   "source": [
    "wmap_calc('../externaldata/wmap_band_smth_imap_r9_9yr_K_v5.fits', nu=22.71e9)"
   ]
  },
  {
   "cell_type": "code",
   "execution_count": 12,
   "metadata": {
    "collapsed": false
   },
   "outputs": [
    {
     "name": "stdout",
     "output_type": "stream",
     "text": [
      "37.380664695 0.517350833879\n"
     ]
    }
   ],
   "source": [
    "wmap_calc('../externaldata/wmap_band_smth_imap_r9_9yr_Ka_v5.fits', nu=32.95e9)"
   ]
  },
  {
   "cell_type": "code",
   "execution_count": 13,
   "metadata": {
    "collapsed": false
   },
   "outputs": [
    {
     "name": "stdout",
     "output_type": "stream",
     "text": [
      "34.3766467408 0.492859057246\n"
     ]
    }
   ],
   "source": [
    "wmap_calc('../externaldata/wmap_band_smth_imap_r9_9yr_Q_v5.fits', nu=40.65e9)"
   ]
  },
  {
   "cell_type": "code",
   "execution_count": 14,
   "metadata": {
    "collapsed": false
   },
   "outputs": [
    {
     "name": "stdout",
     "output_type": "stream",
     "text": [
      "31.7301556703 0.614105126604\n"
     ]
    }
   ],
   "source": [
    "wmap_calc('../externaldata/wmap_band_smth_imap_r9_9yr_V_v5.fits', nu=60.64e9)"
   ]
  },
  {
   "cell_type": "code",
   "execution_count": 15,
   "metadata": {
    "collapsed": false
   },
   "outputs": [
    {
     "name": "stdout",
     "output_type": "stream",
     "text": [
      "40.4134705258 1.32781363164\n"
     ]
    }
   ],
   "source": [
    "wmap_calc('../externaldata/wmap_band_smth_imap_r9_9yr_W_v5.fits', nu=93.44e9)"
   ]
  },
  {
   "cell_type": "code",
   "execution_count": null,
   "metadata": {
    "collapsed": true
   },
   "outputs": [],
   "source": []
  },
  {
   "cell_type": "code",
   "execution_count": null,
   "metadata": {
    "collapsed": true
   },
   "outputs": [],
   "source": []
  }
 ],
 "metadata": {
  "kernelspec": {
   "display_name": "Python 2",
   "language": "python",
   "name": "python2"
  },
  "language_info": {
   "codemirror_mode": {
    "name": "ipython",
    "version": 2
   },
   "file_extension": ".py",
   "mimetype": "text/x-python",
   "name": "python",
   "nbconvert_exporter": "python",
   "pygments_lexer": "ipython2",
   "version": "2.7.13"
  }
 },
 "nbformat": 4,
 "nbformat_minor": 2
}
