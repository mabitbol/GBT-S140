{
 "cells": [
  {
   "cell_type": "code",
   "execution_count": 1,
   "metadata": {
    "collapsed": false
   },
   "outputs": [
    {
     "name": "stdout",
     "output_type": "stream",
     "text": [
      "Populating the interactive namespace from numpy and matplotlib\n"
     ]
    }
   ],
   "source": [
    "%pylab inline"
   ]
  },
  {
   "cell_type": "code",
   "execution_count": 12,
   "metadata": {
    "collapsed": true
   },
   "outputs": [],
   "source": [
    "nscans = 169\n",
    "datafname = 'AGBT17A_259_01'"
   ]
  },
  {
   "cell_type": "code",
   "execution_count": 13,
   "metadata": {
    "collapsed": true
   },
   "outputs": [],
   "source": [
    "lines = []\n",
    "for k in range(nscans):\n",
    "    lines.append('sdfits '+datafname+' -scans='+str(k)+' scan'+str(k)+' &')\n",
    "    if (k % 24) == 23:\n",
    "        lines.append('wait')"
   ]
  },
  {
   "cell_type": "code",
   "execution_count": 14,
   "metadata": {
    "collapsed": false
   },
   "outputs": [
    {
     "name": "stdout",
     "output_type": "stream",
     "text": [
      "sdfits AGBT17A_259_01 -scans=0 scan0 &\n",
      "sdfits AGBT17A_259_01 -scans=1 scan1 &\n",
      "sdfits AGBT17A_259_01 -scans=2 scan2 &\n",
      "sdfits AGBT17A_259_01 -scans=3 scan3 &\n",
      "sdfits AGBT17A_259_01 -scans=4 scan4 &\n",
      "sdfits AGBT17A_259_01 -scans=5 scan5 &\n",
      "sdfits AGBT17A_259_01 -scans=6 scan6 &\n",
      "sdfits AGBT17A_259_01 -scans=7 scan7 &\n",
      "sdfits AGBT17A_259_01 -scans=8 scan8 &\n",
      "sdfits AGBT17A_259_01 -scans=9 scan9 &\n",
      "sdfits AGBT17A_259_01 -scans=10 scan10 &\n",
      "sdfits AGBT17A_259_01 -scans=11 scan11 &\n",
      "sdfits AGBT17A_259_01 -scans=12 scan12 &\n",
      "sdfits AGBT17A_259_01 -scans=13 scan13 &\n",
      "sdfits AGBT17A_259_01 -scans=14 scan14 &\n",
      "sdfits AGBT17A_259_01 -scans=15 scan15 &\n",
      "sdfits AGBT17A_259_01 -scans=16 scan16 &\n",
      "sdfits AGBT17A_259_01 -scans=17 scan17 &\n",
      "sdfits AGBT17A_259_01 -scans=18 scan18 &\n",
      "sdfits AGBT17A_259_01 -scans=19 scan19 &\n",
      "sdfits AGBT17A_259_01 -scans=20 scan20 &\n",
      "sdfits AGBT17A_259_01 -scans=21 scan21 &\n",
      "sdfits AGBT17A_259_01 -scans=22 scan22 &\n",
      "sdfits AGBT17A_259_01 -scans=23 scan23 &\n",
      "wait\n",
      "sdfits AGBT17A_259_01 -scans=24 scan24 &\n",
      "sdfits AGBT17A_259_01 -scans=25 scan25 &\n",
      "sdfits AGBT17A_259_01 -scans=26 scan26 &\n",
      "sdfits AGBT17A_259_01 -scans=27 scan27 &\n",
      "sdfits AGBT17A_259_01 -scans=28 scan28 &\n",
      "sdfits AGBT17A_259_01 -scans=29 scan29 &\n",
      "sdfits AGBT17A_259_01 -scans=30 scan30 &\n",
      "sdfits AGBT17A_259_01 -scans=31 scan31 &\n",
      "sdfits AGBT17A_259_01 -scans=32 scan32 &\n",
      "sdfits AGBT17A_259_01 -scans=33 scan33 &\n",
      "sdfits AGBT17A_259_01 -scans=34 scan34 &\n",
      "sdfits AGBT17A_259_01 -scans=35 scan35 &\n",
      "sdfits AGBT17A_259_01 -scans=36 scan36 &\n",
      "sdfits AGBT17A_259_01 -scans=37 scan37 &\n",
      "sdfits AGBT17A_259_01 -scans=38 scan38 &\n",
      "sdfits AGBT17A_259_01 -scans=39 scan39 &\n",
      "sdfits AGBT17A_259_01 -scans=40 scan40 &\n",
      "sdfits AGBT17A_259_01 -scans=41 scan41 &\n",
      "sdfits AGBT17A_259_01 -scans=42 scan42 &\n",
      "sdfits AGBT17A_259_01 -scans=43 scan43 &\n",
      "sdfits AGBT17A_259_01 -scans=44 scan44 &\n",
      "sdfits AGBT17A_259_01 -scans=45 scan45 &\n",
      "sdfits AGBT17A_259_01 -scans=46 scan46 &\n",
      "sdfits AGBT17A_259_01 -scans=47 scan47 &\n",
      "wait\n",
      "sdfits AGBT17A_259_01 -scans=48 scan48 &\n",
      "sdfits AGBT17A_259_01 -scans=49 scan49 &\n",
      "sdfits AGBT17A_259_01 -scans=50 scan50 &\n",
      "sdfits AGBT17A_259_01 -scans=51 scan51 &\n",
      "sdfits AGBT17A_259_01 -scans=52 scan52 &\n",
      "sdfits AGBT17A_259_01 -scans=53 scan53 &\n",
      "sdfits AGBT17A_259_01 -scans=54 scan54 &\n",
      "sdfits AGBT17A_259_01 -scans=55 scan55 &\n",
      "sdfits AGBT17A_259_01 -scans=56 scan56 &\n",
      "sdfits AGBT17A_259_01 -scans=57 scan57 &\n",
      "sdfits AGBT17A_259_01 -scans=58 scan58 &\n",
      "sdfits AGBT17A_259_01 -scans=59 scan59 &\n",
      "sdfits AGBT17A_259_01 -scans=60 scan60 &\n",
      "sdfits AGBT17A_259_01 -scans=61 scan61 &\n",
      "sdfits AGBT17A_259_01 -scans=62 scan62 &\n",
      "sdfits AGBT17A_259_01 -scans=63 scan63 &\n",
      "sdfits AGBT17A_259_01 -scans=64 scan64 &\n",
      "sdfits AGBT17A_259_01 -scans=65 scan65 &\n",
      "sdfits AGBT17A_259_01 -scans=66 scan66 &\n",
      "sdfits AGBT17A_259_01 -scans=67 scan67 &\n",
      "sdfits AGBT17A_259_01 -scans=68 scan68 &\n",
      "sdfits AGBT17A_259_01 -scans=69 scan69 &\n",
      "sdfits AGBT17A_259_01 -scans=70 scan70 &\n",
      "sdfits AGBT17A_259_01 -scans=71 scan71 &\n",
      "wait\n",
      "sdfits AGBT17A_259_01 -scans=72 scan72 &\n",
      "sdfits AGBT17A_259_01 -scans=73 scan73 &\n",
      "sdfits AGBT17A_259_01 -scans=74 scan74 &\n",
      "sdfits AGBT17A_259_01 -scans=75 scan75 &\n",
      "sdfits AGBT17A_259_01 -scans=76 scan76 &\n",
      "sdfits AGBT17A_259_01 -scans=77 scan77 &\n",
      "sdfits AGBT17A_259_01 -scans=78 scan78 &\n",
      "sdfits AGBT17A_259_01 -scans=79 scan79 &\n",
      "sdfits AGBT17A_259_01 -scans=80 scan80 &\n",
      "sdfits AGBT17A_259_01 -scans=81 scan81 &\n",
      "sdfits AGBT17A_259_01 -scans=82 scan82 &\n",
      "sdfits AGBT17A_259_01 -scans=83 scan83 &\n",
      "sdfits AGBT17A_259_01 -scans=84 scan84 &\n",
      "sdfits AGBT17A_259_01 -scans=85 scan85 &\n",
      "sdfits AGBT17A_259_01 -scans=86 scan86 &\n",
      "sdfits AGBT17A_259_01 -scans=87 scan87 &\n",
      "sdfits AGBT17A_259_01 -scans=88 scan88 &\n",
      "sdfits AGBT17A_259_01 -scans=89 scan89 &\n",
      "sdfits AGBT17A_259_01 -scans=90 scan90 &\n",
      "sdfits AGBT17A_259_01 -scans=91 scan91 &\n",
      "sdfits AGBT17A_259_01 -scans=92 scan92 &\n",
      "sdfits AGBT17A_259_01 -scans=93 scan93 &\n",
      "sdfits AGBT17A_259_01 -scans=94 scan94 &\n",
      "sdfits AGBT17A_259_01 -scans=95 scan95 &\n",
      "wait\n",
      "sdfits AGBT17A_259_01 -scans=96 scan96 &\n",
      "sdfits AGBT17A_259_01 -scans=97 scan97 &\n",
      "sdfits AGBT17A_259_01 -scans=98 scan98 &\n",
      "sdfits AGBT17A_259_01 -scans=99 scan99 &\n",
      "sdfits AGBT17A_259_01 -scans=100 scan100 &\n",
      "sdfits AGBT17A_259_01 -scans=101 scan101 &\n",
      "sdfits AGBT17A_259_01 -scans=102 scan102 &\n",
      "sdfits AGBT17A_259_01 -scans=103 scan103 &\n",
      "sdfits AGBT17A_259_01 -scans=104 scan104 &\n",
      "sdfits AGBT17A_259_01 -scans=105 scan105 &\n",
      "sdfits AGBT17A_259_01 -scans=106 scan106 &\n",
      "sdfits AGBT17A_259_01 -scans=107 scan107 &\n",
      "sdfits AGBT17A_259_01 -scans=108 scan108 &\n",
      "sdfits AGBT17A_259_01 -scans=109 scan109 &\n",
      "sdfits AGBT17A_259_01 -scans=110 scan110 &\n",
      "sdfits AGBT17A_259_01 -scans=111 scan111 &\n",
      "sdfits AGBT17A_259_01 -scans=112 scan112 &\n",
      "sdfits AGBT17A_259_01 -scans=113 scan113 &\n",
      "sdfits AGBT17A_259_01 -scans=114 scan114 &\n",
      "sdfits AGBT17A_259_01 -scans=115 scan115 &\n",
      "sdfits AGBT17A_259_01 -scans=116 scan116 &\n",
      "sdfits AGBT17A_259_01 -scans=117 scan117 &\n",
      "sdfits AGBT17A_259_01 -scans=118 scan118 &\n",
      "sdfits AGBT17A_259_01 -scans=119 scan119 &\n",
      "wait\n",
      "sdfits AGBT17A_259_01 -scans=120 scan120 &\n",
      "sdfits AGBT17A_259_01 -scans=121 scan121 &\n",
      "sdfits AGBT17A_259_01 -scans=122 scan122 &\n",
      "sdfits AGBT17A_259_01 -scans=123 scan123 &\n",
      "sdfits AGBT17A_259_01 -scans=124 scan124 &\n",
      "sdfits AGBT17A_259_01 -scans=125 scan125 &\n",
      "sdfits AGBT17A_259_01 -scans=126 scan126 &\n",
      "sdfits AGBT17A_259_01 -scans=127 scan127 &\n",
      "sdfits AGBT17A_259_01 -scans=128 scan128 &\n",
      "sdfits AGBT17A_259_01 -scans=129 scan129 &\n",
      "sdfits AGBT17A_259_01 -scans=130 scan130 &\n",
      "sdfits AGBT17A_259_01 -scans=131 scan131 &\n",
      "sdfits AGBT17A_259_01 -scans=132 scan132 &\n",
      "sdfits AGBT17A_259_01 -scans=133 scan133 &\n",
      "sdfits AGBT17A_259_01 -scans=134 scan134 &\n",
      "sdfits AGBT17A_259_01 -scans=135 scan135 &\n",
      "sdfits AGBT17A_259_01 -scans=136 scan136 &\n",
      "sdfits AGBT17A_259_01 -scans=137 scan137 &\n",
      "sdfits AGBT17A_259_01 -scans=138 scan138 &\n",
      "sdfits AGBT17A_259_01 -scans=139 scan139 &\n",
      "sdfits AGBT17A_259_01 -scans=140 scan140 &\n",
      "sdfits AGBT17A_259_01 -scans=141 scan141 &\n",
      "sdfits AGBT17A_259_01 -scans=142 scan142 &\n",
      "sdfits AGBT17A_259_01 -scans=143 scan143 &\n",
      "wait\n",
      "sdfits AGBT17A_259_01 -scans=144 scan144 &\n",
      "sdfits AGBT17A_259_01 -scans=145 scan145 &\n",
      "sdfits AGBT17A_259_01 -scans=146 scan146 &\n",
      "sdfits AGBT17A_259_01 -scans=147 scan147 &\n",
      "sdfits AGBT17A_259_01 -scans=148 scan148 &\n",
      "sdfits AGBT17A_259_01 -scans=149 scan149 &\n",
      "sdfits AGBT17A_259_01 -scans=150 scan150 &\n",
      "sdfits AGBT17A_259_01 -scans=151 scan151 &\n",
      "sdfits AGBT17A_259_01 -scans=152 scan152 &\n",
      "sdfits AGBT17A_259_01 -scans=153 scan153 &\n",
      "sdfits AGBT17A_259_01 -scans=154 scan154 &\n",
      "sdfits AGBT17A_259_01 -scans=155 scan155 &\n",
      "sdfits AGBT17A_259_01 -scans=156 scan156 &\n",
      "sdfits AGBT17A_259_01 -scans=157 scan157 &\n",
      "sdfits AGBT17A_259_01 -scans=158 scan158 &\n",
      "sdfits AGBT17A_259_01 -scans=159 scan159 &\n",
      "sdfits AGBT17A_259_01 -scans=160 scan160 &\n",
      "sdfits AGBT17A_259_01 -scans=161 scan161 &\n",
      "sdfits AGBT17A_259_01 -scans=162 scan162 &\n",
      "sdfits AGBT17A_259_01 -scans=163 scan163 &\n",
      "sdfits AGBT17A_259_01 -scans=164 scan164 &\n",
      "sdfits AGBT17A_259_01 -scans=165 scan165 &\n",
      "sdfits AGBT17A_259_01 -scans=166 scan166 &\n",
      "sdfits AGBT17A_259_01 -scans=167 scan167 &\n",
      "wait\n",
      "sdfits AGBT17A_259_01 -scans=168 scan168 &\n"
     ]
    }
   ],
   "source": [
    "print '\\n'.join(lines)"
   ]
  },
  {
   "cell_type": "code",
   "execution_count": 15,
   "metadata": {
    "collapsed": true
   },
   "outputs": [],
   "source": [
    "with open('/home/scratch/mabitbol/sdfits_script.sh', 'w') as fh:\n",
    "    fh.write('\\n'.join(lines))"
   ]
  },
  {
   "cell_type": "code",
   "execution_count": null,
   "metadata": {
    "collapsed": true
   },
   "outputs": [],
   "source": []
  },
  {
   "cell_type": "code",
   "execution_count": null,
   "metadata": {
    "collapsed": true
   },
   "outputs": [],
   "source": []
  },
  {
   "cell_type": "code",
   "execution_count": null,
   "metadata": {
    "collapsed": true
   },
   "outputs": [],
   "source": []
  },
  {
   "cell_type": "code",
   "execution_count": null,
   "metadata": {
    "collapsed": true
   },
   "outputs": [],
   "source": []
  }
 ],
 "metadata": {
  "kernelspec": {
   "display_name": "Python 2",
   "language": "python",
   "name": "python2"
  },
  "language_info": {
   "codemirror_mode": {
    "name": "ipython",
    "version": 2
   },
   "file_extension": ".py",
   "mimetype": "text/x-python",
   "name": "python",
   "nbconvert_exporter": "python",
   "pygments_lexer": "ipython2",
   "version": "2.7.13"
  }
 },
 "nbformat": 4,
 "nbformat_minor": 2
}
